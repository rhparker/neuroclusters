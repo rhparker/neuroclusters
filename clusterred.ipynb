{
 "cells": [
  {
   "cell_type": "code",
   "execution_count": 1,
   "metadata": {},
   "outputs": [
    {
     "data": {
      "text/plain": [
       "<pyvirtualdisplay.display.Display at 0x4027e25dc0>"
      ]
     },
     "execution_count": 1,
     "metadata": {},
     "output_type": "execute_result"
    }
   ],
   "source": [
    "# import AUTO modules\n",
    "from auto import AUTOCommands as ac\n",
    "from auto import AUTOclui as acl\n",
    "from auto import interactiveBindings as ib\n",
    "from auto import runAUTO as ra\n",
    "\n",
    "import numpy as np\n",
    "\n",
    "# import plotting tools\n",
    "import matplotlib as mpl\n",
    "from matplotlib import pyplot as plt\n",
    "\n",
    "# virtual display to use AUTO plot function (pyplot)\n",
    "from pyvirtualdisplay import Display\n",
    "from IPython.display import display as display\n",
    "from PIL import Image\n",
    "disp = Display(visible=0, size=(1366,768))\n",
    "disp.start()"
   ]
  },
  {
   "cell_type": "code",
   "execution_count": 30,
   "metadata": {
    "scrolled": true
   },
   "outputs": [
    {
     "name": "stdout",
     "output_type": "stream",
     "text": [
      "Starting clustersred ...\n",
      "\n",
      "  BR    PT  TY  LAB    PAR(8)        L2-NORM         U(1)          U(2)          U(3)          U(4)          U(5)          U(6)     \n",
      "   1     1  EP    1   0.00000E+00   0.00000E+00   0.00000E+00   0.00000E+00   0.00000E+00   0.00000E+00   0.00000E+00   0.00000E+00\n",
      "   1     5  EP    2   5.00000E-02   0.00000E+00   0.00000E+00   0.00000E+00   0.00000E+00   0.00000E+00   0.00000E+00   0.00000E+00\n",
      "\n",
      " Total Time    0.329E-01\n",
      "clustersred ... done\n",
      "Starting clustersred ...\n",
      "\n",
      "  BR    PT  TY  LAB    PAR(1)        L2-NORM         U(1)          U(2)          U(3)          U(4)          U(5)          U(6)     \n",
      "   1     1  EP    1   2.50000E-01   0.00000E+00   0.00000E+00   0.00000E+00   0.00000E+00   0.00000E+00   0.00000E+00   0.00000E+00\n"
     ]
    },
    {
     "name": "stderr",
     "output_type": "stream",
     "text": [
      "Note: The following floating-point exceptions are signalling: IEEE_UNDERFLOW_FLAG\n"
     ]
    },
    {
     "name": "stdout",
     "output_type": "stream",
     "text": [
      "   1   283  BP    2   5.32343E-01   0.00000E+00   0.00000E+00   0.00000E+00   0.00000E+00   0.00000E+00   0.00000E+00   0.00000E+00\n",
      "   1   500        3   7.49343E-01   0.00000E+00   0.00000E+00   0.00000E+00   0.00000E+00   0.00000E+00   0.00000E+00   0.00000E+00\n",
      "   1  1000        4   1.24934E+00   0.00000E+00   0.00000E+00   0.00000E+00   0.00000E+00   0.00000E+00   0.00000E+00   0.00000E+00\n",
      "   1  1348  BP    5   1.59734E+00   0.00000E+00   0.00000E+00   0.00000E+00   0.00000E+00   0.00000E+00   0.00000E+00   0.00000E+00\n",
      "   1  1500        6   1.74934E+00   0.00000E+00   0.00000E+00   0.00000E+00   0.00000E+00   0.00000E+00   0.00000E+00   0.00000E+00\n",
      "   1  2000        7   2.24934E+00   0.00000E+00   0.00000E+00   0.00000E+00   0.00000E+00   0.00000E+00   0.00000E+00   0.00000E+00\n",
      "   1  2500        8   2.74934E+00   0.00000E+00   0.00000E+00   0.00000E+00   0.00000E+00   0.00000E+00   0.00000E+00   0.00000E+00\n",
      "   1  3000        9   3.24934E+00   0.00000E+00   0.00000E+00   0.00000E+00   0.00000E+00   0.00000E+00   0.00000E+00   0.00000E+00\n",
      "   1  3500       10   3.74934E+00   0.00000E+00   0.00000E+00   0.00000E+00   0.00000E+00   0.00000E+00   0.00000E+00   0.00000E+00\n",
      "   1  3751  UZ   11   4.00000E+00   0.00000E+00   0.00000E+00   0.00000E+00   0.00000E+00   0.00000E+00   0.00000E+00   0.00000E+00\n",
      "\n",
      "  BR    PT  TY  LAB    PAR(1)        L2-NORM         U(1)          U(2)          U(3)          U(4)          U(5)          U(6)     \n",
      "   2   500       12   5.39846E-01   4.98920E-01   4.31870E-01  -1.44226E-01  -1.44226E-01  -1.44226E-01  -1.27450E-03  -1.27450E-03\n",
      "   2  1000       13   5.64120E-01   9.98131E-01   8.62861E-01  -2.89432E-01  -2.89432E-01  -2.89432E-01  -1.02985E-02  -1.02985E-02\n",
      "   2  1500       14   6.12211E-01   1.49457E+00   1.29014E+00  -4.33745E-01  -4.33745E-01  -4.33745E-01  -3.49795E-02  -3.49795E-02\n",
      "   2  2000       15   7.02701E-01   1.98169E+00   1.71185E+00  -5.68530E-01  -5.68530E-01  -5.68530E-01  -8.21062E-02  -8.21062E-02\n",
      "   2  2500       16   8.85944E-01   2.43227E+00   2.12185E+00  -6.64503E-01  -6.64503E-01  -6.64503E-01  -1.49170E-01  -1.49170E-01\n",
      "   2  3000       17   1.22414E+00   2.75825E+00   2.46820E+00  -6.72609E-01  -6.72609E-01  -6.72609E-01  -1.99178E-01  -1.99178E-01\n",
      "   2  3500       18   1.65305E+00   2.94839E+00   2.70925E+00  -6.26822E-01  -6.26822E-01  -6.26822E-01  -2.08743E-01  -2.08743E-01\n",
      "   2  3704  BP   19   1.83809E+00   3.00446E+00   2.78494E+00  -6.05700E-01  -6.05700E-01  -6.05700E-01  -2.06339E-01  -2.06339E-01\n",
      "   2  4000       20   2.11397E+00   3.07232E+00   2.87811E+00  -5.76106E-01  -5.76106E-01  -5.76106E-01  -1.99971E-01  -1.99971E-01\n",
      "   2  4500       21   2.59166E+00   3.16055E+00   3.00043E+00  -5.31653E-01  -5.31653E-01  -5.31653E-01  -1.86088E-01  -1.86088E-01\n",
      "   2  5000       22   3.07821E+00   3.22615E+00   3.09131E+00  -4.94587E-01  -4.94587E-01  -4.94587E-01  -1.71742E-01  -1.71742E-01\n",
      "   2  5500       23   3.56977E+00   3.27651E+00   3.16061E+00  -4.63927E-01  -4.63927E-01  -4.63927E-01  -1.58405E-01  -1.58405E-01\n",
      "   2  5936  UZ   24   4.00000E+00   3.31146E+00   3.20835E+00  -4.41500E-01  -4.41500E-01  -4.41500E-01  -1.47914E-01  -1.47914E-01\n",
      "\n",
      "  BR    PT  TY  LAB    PAR(1)        L2-NORM         U(1)          U(2)          U(3)          U(4)          U(5)          U(6)     \n",
      "   2   500       25   5.39846E-01   4.98920E-01  -4.31870E-01   1.44226E-01   1.44226E-01   1.44226E-01   1.27450E-03   1.27450E-03\n",
      "   2  1000       26   5.64120E-01   9.98131E-01  -8.62861E-01   2.89432E-01   2.89432E-01   2.89432E-01   1.02985E-02   1.02985E-02\n",
      "   2  1500       27   6.12211E-01   1.49457E+00  -1.29014E+00   4.33745E-01   4.33745E-01   4.33745E-01   3.49795E-02   3.49795E-02\n",
      "   2  2000       28   7.02701E-01   1.98169E+00  -1.71185E+00   5.68530E-01   5.68530E-01   5.68530E-01   8.21062E-02   8.21062E-02\n",
      "   2  2500       29   8.85944E-01   2.43227E+00  -2.12185E+00   6.64503E-01   6.64503E-01   6.64503E-01   1.49170E-01   1.49170E-01\n",
      "   2  3000       30   1.22414E+00   2.75825E+00  -2.46820E+00   6.72609E-01   6.72609E-01   6.72609E-01   1.99178E-01   1.99178E-01\n",
      "   2  3500       31   1.65305E+00   2.94839E+00  -2.70925E+00   6.26822E-01   6.26822E-01   6.26822E-01   2.08743E-01   2.08743E-01\n",
      "   2  3704  BP   32   1.83809E+00   3.00446E+00  -2.78494E+00   6.05700E-01   6.05700E-01   6.05700E-01   2.06339E-01   2.06339E-01\n",
      "   2  4000       33   2.11397E+00   3.07232E+00  -2.87811E+00   5.76106E-01   5.76106E-01   5.76106E-01   1.99971E-01   1.99971E-01\n",
      "   2  4500       34   2.59166E+00   3.16055E+00  -3.00043E+00   5.31653E-01   5.31653E-01   5.31653E-01   1.86088E-01   1.86088E-01\n",
      "   2  5000       35   3.07821E+00   3.22615E+00  -3.09131E+00   4.94587E-01   4.94587E-01   4.94587E-01   1.71742E-01   1.71742E-01\n",
      "   2  5500       36   3.56977E+00   3.27651E+00  -3.16061E+00   4.63927E-01   4.63927E-01   4.63927E-01   1.58405E-01   1.58405E-01\n",
      "   2  5936  UZ   37   4.00000E+00   3.31146E+00  -3.20835E+00   4.41500E-01   4.41500E-01   4.41500E-01   1.47914E-01   1.47914E-01\n",
      "\n",
      "  BR    PT  TY  LAB    PAR(1)        L2-NORM         U(1)          U(2)          U(3)          U(4)          U(5)          U(6)     \n",
      "   3   500       38   1.79761E+00   4.37752E-01   5.75977E-03   5.75977E-03   5.75977E-03   5.75977E-03  -1.10336E-01   3.93664E-01\n",
      "   3  1000       39   2.25210E+00   6.22477E-01   1.83729E-02   1.83729E-02   1.83729E-02   1.83729E-02  -1.17016E-01   5.87409E-01\n",
      "   3  1500       40   2.74517E+00   6.82978E-01   2.44211E-02   2.44211E-02   2.44211E-02   2.44211E-02  -9.77399E-02   6.59859E-01\n",
      "   3  1814  HB   41   3.05750E+00   7.00435E-01   2.58490E-02   2.58490E-02   2.58490E-02   2.58490E-02  -8.63703E-02   6.82318E-01\n",
      "   3  2000       42   3.24299E+00   7.07240E-01   2.62012E-02   2.62012E-02   2.62012E-02   2.62012E-02  -8.04310E-02   6.91401E-01\n",
      "   3  2500       43   3.74222E+00   7.18336E-01   2.61064E-02   2.61064E-02   2.61064E-02   2.61064E-02  -6.72563E-02   7.06902E-01\n",
      "   3  2759  UZ   44   4.00000E+00   7.21633E-01   2.57164E-02   2.57164E-02   2.57164E-02   2.57164E-02  -6.17999E-02   7.11794E-01\n",
      "\n",
      "  BR    PT  TY  LAB    PAR(1)        L2-NORM         U(1)          U(2)          U(3)          U(4)          U(5)          U(6)     \n",
      "   3   500       45   1.79761E+00   4.37752E-01  -5.75977E-03  -5.75977E-03  -5.75977E-03  -5.75977E-03   1.10336E-01  -3.93664E-01\n",
      "   3  1000       46   2.25210E+00   6.22477E-01  -1.83729E-02  -1.83729E-02  -1.83729E-02  -1.83729E-02   1.17016E-01  -5.87409E-01\n",
      "   3  1500       47   2.74517E+00   6.82978E-01  -2.44211E-02  -2.44211E-02  -2.44211E-02  -2.44211E-02   9.77399E-02  -6.59859E-01\n",
      "   3  1814  HB   48   3.05750E+00   7.00435E-01  -2.58490E-02  -2.58490E-02  -2.58490E-02  -2.58490E-02   8.63703E-02  -6.82318E-01\n",
      "   3  2000       49   3.24299E+00   7.07240E-01  -2.62012E-02  -2.62012E-02  -2.62012E-02  -2.62012E-02   8.04310E-02  -6.91401E-01\n",
      "   3  2500       50   3.74222E+00   7.18336E-01  -2.61064E-02  -2.61064E-02  -2.61064E-02  -2.61064E-02   6.72563E-02  -7.06902E-01\n",
      "   3  2759  UZ   51   4.00000E+00   7.21633E-01  -2.57164E-02  -2.57164E-02  -2.57164E-02  -2.57164E-02   6.17999E-02  -7.11794E-01\n",
      "\n",
      "  BR    PT  TY  LAB    PAR(1)        L2-NORM         U(1)          U(2)          U(3)          U(4)          U(5)          U(6)     \n",
      "   4   500       52   2.25977E+00   3.11949E+00   2.92130E+00  -5.72382E-01  -5.72382E-01  -5.72382E-01  -1.47222E-01  -3.86481E-01\n",
      "   4  1000       53   2.74010E+00   3.21209E+00   3.03125E+00  -5.43494E-01  -5.43494E-01  -5.43494E-01  -1.27222E-01  -4.40866E-01\n",
      "   4  1500       54   3.23103E+00   3.27586E+00   3.11086E+00  -5.18388E-01  -5.18388E-01  -5.18388E-01  -1.15286E-01  -4.55857E-01\n",
      "   4  2000       55   3.72592E+00   3.32077E+00   3.16928E+00  -4.96977E-01  -4.96977E-01  -4.96977E-01  -1.05949E-01  -4.56649E-01\n",
      "   4  2276  UZ   56   4.00001E+00   3.33996E+00   3.19493E+00  -4.86607E-01  -4.86607E-01  -4.86607E-01  -1.01411E-01  -4.54433E-01\n",
      "\n",
      "  BR    PT  TY  LAB    PAR(1)        L2-NORM         U(1)          U(2)          U(3)          U(4)          U(5)          U(6)     \n",
      "   4   334  LP   57   1.72456E+00   2.99777E+00   2.74216E+00  -6.29002E-01  -6.29002E-01  -6.29002E-01  -3.04849E-01   3.83867E-02\n"
     ]
    },
    {
     "name": "stdout",
     "output_type": "stream",
     "text": [
      "   4   500       58   1.75101E+00   3.03783E+00   2.75489E+00  -6.37048E-01  -6.37048E-01  -6.37048E-01  -3.62352E-01   1.66101E-01\n",
      "   4  1000       59   2.06649E+00   3.21838E+00   2.86765E+00  -6.36494E-01  -6.36494E-01  -6.36494E-01  -4.91097E-01   4.42293E-01\n",
      "   4  1500       60   2.52613E+00   3.35453E+00   2.97905E+00  -6.22283E-01  -6.22283E-01  -6.22283E-01  -5.48541E-01   5.60132E-01\n",
      "   4  2000       61   3.01557E+00   3.43793E+00   3.05133E+00  -6.15916E-01  -6.15916E-01  -6.15916E-01  -5.78906E-01   6.04415E-01\n",
      "   4  2500       62   3.51250E+00   3.48629E+00   3.09112E+00  -6.16802E-01  -6.16802E-01  -6.16802E-01  -5.98366E-01   6.19468E-01\n",
      "   4  2989  UZ   63   4.00000E+00   3.51214E+00   3.11068E+00  -6.19693E-01  -6.19693E-01  -6.19693E-01  -6.10272E-01   6.24062E-01\n",
      "\n",
      "  BR    PT  TY  LAB    PAR(1)        L2-NORM         U(1)          U(2)          U(3)          U(4)          U(5)          U(6)     \n",
      "   5   334  LP   64   1.72456E+00   2.99777E+00  -2.74216E+00   6.29002E-01   6.29002E-01   6.29002E-01   3.04849E-01  -3.83867E-02\n",
      "   5   500       65   1.75101E+00   3.03783E+00  -2.75489E+00   6.37048E-01   6.37048E-01   6.37048E-01   3.62352E-01  -1.66101E-01\n",
      "   5  1000       66   2.06649E+00   3.21838E+00  -2.86765E+00   6.36494E-01   6.36494E-01   6.36494E-01   4.91097E-01  -4.42293E-01\n",
      "   5  1500       67   2.52613E+00   3.35453E+00  -2.97905E+00   6.22283E-01   6.22283E-01   6.22283E-01   5.48541E-01  -5.60132E-01\n",
      "   5  2000       68   3.01557E+00   3.43793E+00  -3.05133E+00   6.15916E-01   6.15916E-01   6.15916E-01   5.78906E-01  -6.04415E-01\n",
      "   5  2500       69   3.51250E+00   3.48629E+00  -3.09112E+00   6.16802E-01   6.16802E-01   6.16802E-01   5.98366E-01  -6.19468E-01\n",
      "   5  2989  UZ   70   4.00000E+00   3.51214E+00  -3.11068E+00   6.19693E-01   6.19693E-01   6.19693E-01   6.10272E-01  -6.24062E-01\n",
      "\n",
      "  BR    PT  TY  LAB    PAR(1)        L2-NORM         U(1)          U(2)          U(3)          U(4)          U(5)          U(6)     \n",
      "   5   500       71   2.25977E+00   3.11949E+00  -2.92130E+00   5.72382E-01   5.72382E-01   5.72382E-01   1.47222E-01   3.86481E-01\n",
      "   5  1000       72   2.74010E+00   3.21209E+00  -3.03125E+00   5.43494E-01   5.43494E-01   5.43494E-01   1.27222E-01   4.40866E-01\n",
      "   5  1500       73   3.23103E+00   3.27586E+00  -3.11086E+00   5.18388E-01   5.18388E-01   5.18388E-01   1.15286E-01   4.55857E-01\n",
      "   5  2000       74   3.72592E+00   3.32077E+00  -3.16928E+00   4.96977E-01   4.96977E-01   4.96977E-01   1.05949E-01   4.56649E-01\n",
      "   5  2276  UZ   75   4.00001E+00   3.33996E+00  -3.19493E+00   4.86607E-01   4.86607E-01   4.86607E-01   1.01411E-01   4.54433E-01\n",
      "\n",
      " Total Time    0.670E+02\n",
      "clustersred ... done\n"
     ]
    },
    {
     "name": "stderr",
     "output_type": "stream",
     "text": [
      "Note: The following floating-point exceptions are signalling: IEEE_UNDERFLOW_FLAG\n"
     ]
    }
   ],
   "source": [
    "# start AUTO with runner object\n",
    "runner = ra.runAUTO()\n",
    "r1 = ac.run(e='clustersred', c='clustersred', runner=runner)\n",
    "r2 = ac.run(r1, c='clustersred.1', runner=runner)"
   ]
  },
  {
   "cell_type": "code",
   "execution_count": 15,
   "metadata": {},
   "outputs": [],
   "source": [
    "# load saved AUTO data\n",
    "bd = r2\n",
    "NDim = bd[0].c['NDIM']\n",
    "\n",
    "# these are the types and labels for algebraic problems\n",
    "# \"user output point\" is type number -4, so this works for that\n",
    "AUTOtypes = [\"\",\"BP\",\"LP\",\"HB\",\"\",\"\",\"UZ\",\"\",\"\",\"EP\"]\n",
    "AUTOlabels = [\"\",\"branch point\",\"fold\",\"Hopf bifurcation\",\"regular output point\",\"\",\"user output point\",\"\",\n",
    "                  \"\", \"end point\"]\n",
    "\n",
    "# branches of the solution\n",
    "branches = [ \n",
    "         {  \"par\"        : br.coordarray[0,:], \n",
    "            \"L2norm\"     : br.coordarray[1,:],\n",
    "            \"branchnum\"  : br.BR,\n",
    "            \"parS\"       : np.array( [ bd(id).PAR(1) for id in br.getLabels() ] ),\n",
    "            \"xS\"         : np.array( [ bd(id)[0]['u'] for id in br.getLabels() ] ),\n",
    "            \"PT\"         : np.array( [ br[ bd(id)['PT']-1 ]['PT'] for id in br.getLabels() ]  )\n",
    "         } for br in bd ]\n",
    "# individual solutions\n",
    "sols = [ {  \"u\"         : np.array( s[0]['u'] ),\n",
    "            \"par\"       : s.PAR,\n",
    "            \"branchnum\" : s.data['BR'],\n",
    "            \"typenum\"   : s.data['TY number'],\n",
    "            \"type\"      : AUTOtypes[ s.data['TY number'] ],\n",
    "            \"typename\"  : AUTOlabels[ s.data['TY number'] ]\n",
    "         } for s in bd() ]\n",
    "\n",
    "# bifurcation points\n",
    "HB = [ s for s in sols if s[\"type\"] == \"HB\" ]\n",
    "BP = [ s for s in sols if s[\"type\"] == \"BP\" ]"
   ]
  },
  {
   "cell_type": "code",
   "execution_count": 16,
   "metadata": {},
   "outputs": [],
   "source": [
    "# stable portions\n",
    "stablebranches = [ [] for b in branches ]\n",
    "for i, b in enumerate(branches):\n",
    "    indices = np.array( [j for j, p in enumerate(b['PT']) if p < 0] )\n",
    "    if len(indices) > 0:\n",
    "        stablebranches[i] = {\n",
    "            \"parS\" : b['parS'][indices],\n",
    "            \"xS\"   : b['xS'][indices],\n",
    "            \"PT\"   : b['PT'][indices]\n",
    "        }"
   ]
  },
  {
   "cell_type": "code",
   "execution_count": 26,
   "metadata": {},
   "outputs": [
    {
     "data": {
      "text/plain": [
       "Text(0, 0.5, 'inhibitory')"
      ]
     },
     "execution_count": 26,
     "metadata": {},
     "output_type": "execute_result"
    },
    {
     "data": {
      "image/png": "[encoded data removed]",
      "text/plain": [
       "<Figure size 576x1080 with 2 Axes>"
      ]
     },
     "metadata": {
      "needs_background": "light"
     },
     "output_type": "display_data"
    }
   ],
   "source": [
    "plt.figure(figsize=(8, 15))\n",
    "fontsize=18\n",
    "\n",
    "ax1=plt.subplot(2, 1, 1)\n",
    "ax2=plt.subplot(2, 1, 2)\n",
    "frac = 0.8\n",
    "Nc = 4\n",
    "exsplit = Nc\n",
    "\n",
    "# Hopf bifurcations and branch points\n",
    "xHB = np.array( [ s['par']['PAR(1)'] for s in HB ] )\n",
    "yHB = np.array( [ s['u'] for s in HB ] )\n",
    "xBP = np.array( [ s['par']['PAR(1)'] for s in BP ] )\n",
    "yBP = np.array( [ s['u'] for s in BP ] )\n",
    "\n",
    "for index, branch in enumerate(branches):\n",
    "#     bcolor = 'C'+str( branch[\"branchnum\"] - 1 )\n",
    "    bcolor = 'C'+str(index)\n",
    "    ax1.plot( branch['parS'], branch['xS'][:,:exsplit], '--', c=bcolor)\n",
    "    ax2.plot( branch['parS'], branch['xS'][:,exsplit:], '--', c=bcolor)\n",
    "    if stablebranches[index] != []:\n",
    "        ax1.plot( stablebranches[index]['parS'], stablebranches[index]['xS'][:,:exsplit], '-', c=bcolor)\n",
    "        ax2.plot( stablebranches[index]['parS'], stablebranches[index]['xS'][:,exsplit:], '-', c=bcolor)\n",
    "#     ax2.plot( branch['parS'], branch['xS'][:,exsplit], c=bcolor)\n",
    "    if len(xHB) > 0:\n",
    "        ax1.plot( xHB, yHB[:,:exsplit], 'sk', markersize=10 )\n",
    "        ax2.plot( xHB, yHB[:,exsplit:], 'sk', markersize=10 )\n",
    "    if len(xBP) > 0:\n",
    "        ax1.plot( xBP, yBP[:,:exsplit], 'ok')\n",
    "        ax2.plot( xBP, yBP[:,exsplit:], 'ok')\n",
    "    \n",
    "ax1.set_xlabel('g')\n",
    "ax1.set_ylabel('excitatory')\n",
    "ax2.set_xlabel('g')\n",
    "ax2.set_ylabel('inhibitory')\n",
    "\n",
    "# legendlabels = ['0 solution','3-1 inh','3-1 inh']\n",
    "# lines = [ mpl.lines.Line2D([0,1],[0,1], linestyle='--', color='C'+str(i) ) for i, lab in enumerate(legendlabels) ]\n",
    "# ax1.legend(lines, legendlabels)\n",
    "# ax2.legend(lines, legendlabels)"
   ]
  },
  {
   "cell_type": "code",
   "execution_count": 23,
   "metadata": {},
   "outputs": [
    {
     "data": {
      "text/plain": [
       "array([ 9.43958541e-02, -3.14664611e-02, -3.14664611e-02, -3.14664611e-02,\n",
       "       -5.29856479e-06, -5.29856479e-06, -5.29856479e-06, -5.29856479e-06])"
      ]
     },
     "execution_count": 23,
     "metadata": {},
     "output_type": "execute_result"
    }
   ],
   "source": [
    "branches[1]['xS'][10]"
   ]
  },
  {
   "cell_type": "code",
   "execution_count": null,
   "metadata": {},
   "outputs": [],
   "source": [
    "# save output needed to make plots, etc\n",
    "np.savez_compressed('data/8a_cluster40_2', b=branches, s=sols, HB=HB, BP=BP, sb=stablebranches, N=NDim)"
   ]
  },
  {
   "cell_type": "code",
   "execution_count": 127,
   "metadata": {},
   "outputs": [
    {
     "name": "stderr",
     "output_type": "stream",
     "text": [
      "<ipython-input-127-a80d5446ae3e>:8: RuntimeWarning: invalid value encountered in sqrt\n",
      "  xipred = np.sqrt( 3*(g1 - gstar)/g1**3)\n",
      "<ipython-input-127-a80d5446ae3e>:9: RuntimeWarning: invalid value encountered in sqrt\n",
      "  xipred2 = 0.5*np.sqrt( (5/(g1**2)) - (np.sqrt( (5*g1**5)*(24*gstar - 19*g1) ) / g1**5 ) )\n",
      "The PostScript backend does not support transparency; partially transparent artists will be rendered opaque.\n",
      "The PostScript backend does not support transparency; partially transparent artists will be rendered opaque.\n"
     ]
    },
    {
     "data": {
      "image/png": "[encoded data removed]",
      "text/plain": [
       "<Figure size 432x288 with 1 Axes>"
      ]
     },
     "metadata": {
      "needs_background": "light"
     },
     "output_type": "display_data"
    }
   ],
   "source": [
    "a = 4\n",
    "mee = 0.25\n",
    "gstar = np.sqrt(NDim)/(a*mee)\n",
    "\n",
    "g1 = branches[0]['parS']\n",
    "xi1 = np.abs( branches[0]['xS'][:,16] )\n",
    "\n",
    "xipred = np.sqrt( 3*(g1 - gstar)/g1**3)\n",
    "xipred2 = 0.5*np.sqrt( (5/(g1**2)) - (np.sqrt( (5*g1**5)*(24*gstar - 19*g1) ) / g1**5 ) )\n",
    "\n",
    "plt.figure()\n",
    "plt.plot(g1,xi1,'-',g1,xipred,'--',g1,xipred2,'-.')\n",
    "plt.axis([4.25, 5.5, 0, 0.25]) \n",
    "plt.xlabel('$g$')\n",
    "plt.ylabel('$X_I$')\n",
    "plt.legend(['continuation solution','3rd order approx','5th order approx'])\n",
    "plt.savefig('images/Xiapprox.eps')"
   ]
  },
  {
   "cell_type": "code",
   "execution_count": 37,
   "metadata": {},
   "outputs": [
    {
     "data": {
      "text/plain": [
       "array([ -250,  -282,  -500,  -750, -1000, -1250, -1500, -1750, -2000,\n",
       "       -2250, -2500, -2750, -3000, -3250, -3500, -3750, -4000, -4250,\n",
       "       -4500, -4551,  4750,  5000,  5250,  5500,  5750,  6000,  6250,\n",
       "        6500,  6750,  7000,  7250,  7500,  7750,  8000,  8250,  8500,\n",
       "        8750,  9000,  9250,  9500,  9750,    -1,  -251,  -501,  -751,\n",
       "        -956])"
      ]
     },
     "execution_count": 37,
     "metadata": {},
     "output_type": "execute_result"
    }
   ],
   "source": [
    "branches[0]['PT']"
   ]
  },
  {
   "cell_type": "code",
   "execution_count": 15,
   "metadata": {},
   "outputs": [
    {
     "ename": "IndexError",
     "evalue": "list index out of range",
     "output_type": "error",
     "traceback": [
      "\u001b[0;31m---------------------------------------------------------------------------\u001b[0m",
      "\u001b[0;31mIndexError\u001b[0m                                Traceback (most recent call last)",
      "\u001b[0;32m<ipython-input-15-2462d6532f2c>\u001b[0m in \u001b[0;36m<module>\u001b[0;34m\u001b[0m\n\u001b[0;32m----> 1\u001b[0;31m \u001b[0mstablebranches\u001b[0m\u001b[0;34m[\u001b[0m\u001b[0;36m9\u001b[0m\u001b[0;34m]\u001b[0m\u001b[0;34m\u001b[0m\u001b[0;34m\u001b[0m\u001b[0m\n\u001b[0m",
      "\u001b[0;31mIndexError\u001b[0m: list index out of range"
     ]
    }
   ],
   "source": [
    "stablebranches[9]"
   ]
  },
  {
   "cell_type": "code",
   "execution_count": null,
   "metadata": {},
   "outputs": [],
   "source": []
  }
 ],
 "metadata": {
  "kernelspec": {
   "display_name": "Python 3",
   "language": "python",
   "name": "python3"
  },
  "language_info": {
   "codemirror_mode": {
    "name": "ipython",
    "version": 3
   },
   "file_extension": ".py",
   "mimetype": "text/x-python",
   "name": "python",
   "nbconvert_exporter": "python",
   "pygments_lexer": "ipython3",
   "version": "3.8.5"
  }
 },
 "nbformat": 4,
 "nbformat_minor": 2
}
